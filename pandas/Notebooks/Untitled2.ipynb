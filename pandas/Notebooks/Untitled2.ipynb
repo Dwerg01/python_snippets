{
 "cells": [
  {
   "cell_type": "code",
   "execution_count": 2,
   "id": "61ae2350-c338-45cc-881e-8eb4e0207bc6",
   "metadata": {},
   "outputs": [],
   "source": [
    "import pandas as pd"
   ]
  },
  {
   "cell_type": "code",
   "execution_count": 3,
   "id": "9d49e673-a050-4d22-8d50-282c9bf8826a",
   "metadata": {},
   "outputs": [],
   "source": [
    "eng_url     = 'https://andybek.com/pandas-eng'\n",
    "state_url   = 'https://andybek.com/pandas-state'\n",
    "party_url   = 'https://andybek.com/pandas-party'\n",
    "liberal_url = 'https://andybek.com/pandas-liberal'\n",
    "ivies_url   = 'https://andybek.com/pandas-ivies'\n",
    "\n",
    "sources = [eng_url, state_url, party_url, liberal_url, ivies_url]\n",
    "\n",
    "for source in sources:\n",
    "    source = pd.read_csv(source)\n",
    "    \n",
    "    "
   ]
  },
  {
   "cell_type": "code",
   "execution_count": null,
   "id": "f148c6b9-d953-46c4-b2d0-f698050a80bf",
   "metadata": {},
   "outputs": [],
   "source": []
  }
 ],
 "metadata": {
  "kernelspec": {
   "display_name": "Python 3 (ipykernel)",
   "language": "python",
   "name": "python3"
  },
  "language_info": {
   "codemirror_mode": {
    "name": "ipython",
    "version": 3
   },
   "file_extension": ".py",
   "mimetype": "text/x-python",
   "name": "python",
   "nbconvert_exporter": "python",
   "pygments_lexer": "ipython3",
   "version": "3.10.8"
  }
 },
 "nbformat": 4,
 "nbformat_minor": 5
}
