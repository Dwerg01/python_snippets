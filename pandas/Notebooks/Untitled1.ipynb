{
 "cells": [
  {
   "cell_type": "code",
   "execution_count": null,
   "id": "2599e44e-f825-4fa6-b7dd-45b8ea9f4b0c",
   "metadata": {},
   "outputs": [],
   "source": [
    "import pandas as pd\n",
    "import numpy as np\n",
    "\n",
    "# DATA URL SOURCES ###############################\n",
    "eng_url     = 'https://andybek.com/pandas-eng'\n",
    "state_url   = 'https://andybek.com/pandas-state'\n",
    "party_url   = 'https://andybek.com/pandas-party'\n",
    "liberal_url = 'https://andybek.com/pandas-liberal'\n",
    "ivies_url   = 'https://andybek.com/pandas-ivies'\n",
    "##################################################\n",
    "\n",
    "eng = pd.read_csv(eng_url)\n",
    "state = pd.read_csv(state_url)\n",
    "party = pd.read_csv(party_url)\n",
    "liberal = pd.read_csv(liberal_url)\n",
    "ivies = pd.read_csv(ivies_url)\n",
    "\n",
    "dfs = [state, eng, liberal, ivies, party]\n",
    "\n",
    "schools = pd.concat(dfs).drop_duplicates(subset='School Name')\n",
    "\n",
    "schools.reset_index(drop=True, inplace=True)\n",
    "schools\n",
    "\n",
    "ivies4 = ivies.set_index('School Name')\n",
    "regions2 = regions.set_index('School Name')\n",
    "\n",
    "# Merging by index\n",
    "pd.merge(ivies4, regions2, left_index=True, right_index=True)\n",
    "\n",
    "# Merge on a combination of index and column\n",
    "pd.merge(ivies4, regions, left_index=True, right_on='School Name')"
   ]
  }
 ],
 "metadata": {
  "kernelspec": {
   "display_name": "Python 3 (ipykernel)",
   "language": "python",
   "name": "python3"
  },
  "language_info": {
   "codemirror_mode": {
    "name": "ipython",
    "version": 3
   },
   "file_extension": ".py",
   "mimetype": "text/x-python",
   "name": "python",
   "nbconvert_exporter": "python",
   "pygments_lexer": "ipython3",
   "version": "3.10.8"
  }
 },
 "nbformat": 4,
 "nbformat_minor": 5
}
